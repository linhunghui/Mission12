{
 "cells": [
  {
   "cell_type": "code",
   "execution_count": 60,
   "metadata": {},
   "outputs": [
    {
     "name": "stdout",
     "output_type": "stream",
     "text": [
      "Url: http://cc104.sqs.local:9324/queue/test\n",
      "DelaySeconds: 5\n"
     ]
    }
   ],
   "source": [
    "import boto3\n",
    "import os\n",
    "\n",
    "# Get the service resource 使用boto3連線sqs\n",
    "\n",
    "sqs = boto3.resource('sqs',region_name=os.environ[\"region_name\"],\n",
    "                      aws_access_key_id=os.environ[\"aws_access_key_id\"],\n",
    "                      aws_secret_access_key=os.environ[\"aws_secret_access_key\"],\n",
    "                      endpoint_url=\"http://cc104.sqs.local:9324\")\n",
    "\n",
    "# Create the queue. This returns an SQS.Queue instance 使用sqs.create_queue創一個叫test的隊列 delaysecond為5秒\n",
    "queue = sqs.create_queue(QueueName='test', Attributes={'DelaySeconds': '5'})\n",
    "\n",
    "# You can now access identifiers and attributes\n",
    "print(\"Url:\",queue.url)\n",
    "print(\"DelaySeconds:\",queue.attributes.get('DelaySeconds'))"
   ]
  },
  {
   "cell_type": "code",
   "execution_count": 119,
   "metadata": {},
   "outputs": [
    {
     "name": "stdout",
     "output_type": "stream",
     "text": [
      "MessageId: 155fecf1-f5db-492e-a276-39d765d5679b\n",
      "MD5OfMessageBody: a3aac5097340a9aa8c27278a39971223\n"
     ]
    }
   ],
   "source": [
    "# Get the queue 使用sqs.get_queue_by_name讀取test隊列內容\n",
    "queue = sqs.get_queue_by_name(QueueName='test')\n",
    "\n",
    "# Create a new message #用send_message方法將message傳送到test隊列中(法一：一次送一個)\n",
    "response = queue.send_message(MessageBody='LBJ')\n",
    "\n",
    "# The response is NOT a resource, but gives you a message ID and MD5 \n",
    "print(\"MessageId:\",response.get('MessageId'))\n",
    "print(\"MD5OfMessageBody:\",response.get('MD5OfMessageBody'))"
   ]
  },
  {
   "cell_type": "code",
   "execution_count": 122,
   "metadata": {},
   "outputs": [
    {
     "name": "stdout",
     "output_type": "stream",
     "text": [
      "None\n"
     ]
    }
   ],
   "source": [
    "#用send_message方法將message傳送到test隊列中(法一：一次送多個)\n",
    "response = queue.send_messages(Entries=[\n",
    "    {\n",
    "        'Id': '1',\n",
    "        'MessageBody': 'GGboy'\n",
    "    },\n",
    "    {\n",
    "        'Id': '2',\n",
    "        'MessageBody': 'boto3',\n",
    "        'MessageAttributes': {\n",
    "            'Author': {\n",
    "                'StringValue': 'Daniel',\n",
    "                'DataType': 'String'\n",
    "            }\n",
    "        }\n",
    "    }\n",
    "])\n",
    "# Print out any failures 假如有失敗的印出來\n",
    "print(response.get('Failed'))"
   ]
  },
  {
   "cell_type": "code",
   "execution_count": 124,
   "metadata": {},
   "outputs": [
    {
     "name": "stdout",
     "output_type": "stream",
     "text": [
      "GGboy,Winner, Winner, Chicken Dinner\n"
     ]
    }
   ],
   "source": [
    "#查詢messages(一次只能查到一個)\n",
    "for message in queue.receive_messages(MessageAttributeNames=['Author']):\n",
    "    # Get the custom author message attribute if it was set\n",
    "    author_text = ''\n",
    "    if message.message_attributes is not None:\n",
    "        author_name = message.message_attributes.get('Author').get('StringValue')\n",
    "        if author_name:\n",
    "            author_text = ' ({0})'.format(author_name)\n",
    "\n",
    "    # Print out the body and author (if set)\n",
    "    print('{0}{1},Winner, Winner, Chicken Dinner'.format(message.body, author_text))\n",
    "    message.delete()"
   ]
  },
  {
   "cell_type": "code",
   "execution_count": null,
   "metadata": {},
   "outputs": [],
   "source": []
  },
  {
   "cell_type": "code",
   "execution_count": null,
   "metadata": {},
   "outputs": [],
   "source": []
  }
 ],
 "metadata": {
  "kernelspec": {
   "display_name": "Python 3",
   "language": "python",
   "name": "python3"
  },
  "language_info": {
   "codemirror_mode": {
    "name": "ipython",
    "version": 3
   },
   "file_extension": ".py",
   "mimetype": "text/x-python",
   "name": "python",
   "nbconvert_exporter": "python",
   "pygments_lexer": "ipython3",
   "version": "3.7.1"
  }
 },
 "nbformat": 4,
 "nbformat_minor": 2
}
