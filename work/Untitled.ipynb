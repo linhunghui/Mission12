{
 "cells": [
  {
   "cell_type": "code",
   "execution_count": 4,
   "metadata": {},
   "outputs": [
    {
     "name": "stdout",
     "output_type": "stream",
     "text": [
      "Requirement already satisfied: pytz in /opt/conda/lib/python3.7/site-packages (2018.9)\n",
      "================================\n",
      "Local time: 2019-01-22 22:05:18.127460+08:00\n",
      "  UTC time:  2019-01-22 14:05:18.127908+00:00 \n",
      " <botocore.client.SNS object at 0x7f86b4e39160> ~~連線成功~~\n",
      "================================\n",
      "Local time: 2019-01-22 22:05:18.142010+08:00\n",
      "  UTC time:  2019-01-22 14:05:18.142603+00:00 \n",
      " <botocore.client.SQS object at 0x7f86b4e39b38> ~~連線成功~~\n",
      "================================\n"
     ]
    }
   ],
   "source": [
    "!pip install pytz\n",
    "import boto3\n",
    "from botocore.exceptions import ClientError\n",
    "import json\n",
    "import os\n",
    "import datetime\n",
    "import pytz\n",
    "import calendar \n",
    "import decimal\n",
    "#============================================\n",
    "#取得local time,utc time\n",
    "#print(pytz.country_timezones('tw'))\n",
    "tz = pytz.timezone('Asia/Taipei')\n",
    "utc = pytz.utc\n",
    "print(\"================================\")\n",
    "#============================================\n",
    "# boto3透過container的3個aws環境變數，來連線sqs\n",
    "sns_client = boto3.client('sns',region_name=os.environ[\"region_name\"],aws_access_key_id=os.environ[\"aws_access_key_id\"],aws_secret_access_key=os.environ[\"aws_secret_access_key\"], endpoint_url=\"http://cc104.sns.local:9911\")\n",
    "print(\"Local time:\",datetime.datetime.now(tz))\n",
    "print(\"  UTC time: \",datetime.datetime.now(pytz.utc),\"\\n\",sns_client,\"~~連線成功~~\\n================================\")\n",
    "# ============================================\n",
    "# boto3透過container的3個aws環境變數，來連線sqs\n",
    "sqs_client = boto3.client('sqs',region_name=os.environ[\"region_name\"],aws_access_key_id=os.environ[\"aws_access_key_id\"],aws_secret_access_key=os.environ[\"aws_secret_access_key\"], endpoint_url=\"http://cc104.sqs.local:9324\")\n",
    "print(\"Local time:\",datetime.datetime.now(tz))\n",
    "print(\"  UTC time: \",datetime.datetime.now(pytz.utc),\"\\n\",sqs_client,\"~~連線成功~~\\n================================\")\n",
    "# ============================================\n",
    "sqs_reso = boto3.resource('sqs',region_name=os.environ[\"region_name\"],aws_access_key_id=os.environ[\"aws_access_key_id\"],aws_secret_access_key=os.environ[\"aws_secret_access_key\"], endpoint_url=\"http://cc104.sqs.local:9324\")\n"
   ]
  },
  {
   "cell_type": "code",
   "execution_count": null,
   "metadata": {},
   "outputs": [],
   "source": []
  }
 ],
 "metadata": {
  "kernelspec": {
   "display_name": "Python 3",
   "language": "python",
   "name": "python3"
  },
  "language_info": {
   "codemirror_mode": {
    "name": "ipython",
    "version": 3
   },
   "file_extension": ".py",
   "mimetype": "text/x-python",
   "name": "python",
   "nbconvert_exporter": "python",
   "pygments_lexer": "ipython3",
   "version": "3.7.1"
  }
 },
 "nbformat": 4,
 "nbformat_minor": 2
}
