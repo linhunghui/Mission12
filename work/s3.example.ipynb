{
 "cells": [
  {
   "cell_type": "code",
   "execution_count": 20,
   "metadata": {},
   "outputs": [
    {
     "name": "stdout",
     "output_type": "stream",
     "text": [
      "<botocore.client.S3 object at 0x7f2acde0f0f0>\n"
     ]
    }
   ],
   "source": [
    "#引用套件\n",
    "import boto3\n",
    "import os\n",
    "\n",
    "# Get the service resource 使用boto3連線s3\n",
    "\n",
    "s3client = boto3.client('s3',region_name=os.environ[\"region_name\"],\n",
    "                      aws_access_key_id=os.environ[\"aws_access_key_id\"],\n",
    "                      aws_secret_access_key=os.environ[\"aws_secret_access_key\"],\n",
    "                      endpoint_url=\"http://cc104.s3.local:4569\")\n",
    "print(s3client)"
   ]
  },
  {
   "cell_type": "code",
   "execution_count": 24,
   "metadata": {},
   "outputs": [],
   "source": [
    "#創建bucket\n",
    "s3client.create_bucket(Bucket='ggboy-bucket')\n",
    "#將資料上傳到S3的ggboy-bucket內\n",
    "s3client.upload_file('ggyytest.txt', 'ggboy-bucket','ggyytest.txt')"
   ]
  },
  {
   "cell_type": "code",
   "execution_count": 22,
   "metadata": {},
   "outputs": [],
   "source": [
    "#下載S3中ggboy-bucket內object(ggyytest.txt)到本地端後改名local.ggyytest.txt\n",
    "s3resource = boto3.resource('s3',region_name=os.environ[\"region_name\"],\n",
    "                      aws_access_key_id=os.environ[\"aws_access_key_id\"],\n",
    "                      aws_secret_access_key=os.environ[\"aws_secret_access_key\"],\n",
    "                      endpoint_url=\"http://cc104.s3.local:4569\")\n",
    "BUCKET_NAME = 'ggboy-bucket' # replace with your bucket name\n",
    "KEY = 'ggyytest.txt' # replace with your object key\n",
    "\n",
    "\n",
    "try:\n",
    "    s3resource.Bucket(BUCKET_NAME).download_file(KEY, 'local.ggyytest.txt')\n",
    "except botocore.exceptions.ClientError as e:\n",
    "    if e.response['Error']['Code'] == \"404\":\n",
    "        print(\"The object does not exist.\")\n",
    "    else:\n",
    "        raise"
   ]
  },
  {
   "cell_type": "code",
   "execution_count": 25,
   "metadata": {},
   "outputs": [],
   "source": [
    "#刪除s3的ggboy-bucket桶內的ggyytest.txt檔\n",
    "delfile=s3client.delete_object(Bucket='ggboy-bucket',Key='ggyytest.txt')\n"
   ]
  },
  {
   "cell_type": "code",
   "execution_count": null,
   "metadata": {},
   "outputs": [],
   "source": []
  }
 ],
 "metadata": {
  "kernelspec": {
   "display_name": "Python 3",
   "language": "python",
   "name": "python3"
  },
  "language_info": {
   "codemirror_mode": {
    "name": "ipython",
    "version": 3
   },
   "file_extension": ".py",
   "mimetype": "text/x-python",
   "name": "python",
   "nbconvert_exporter": "python",
   "pygments_lexer": "ipython3",
   "version": "3.7.1"
  }
 },
 "nbformat": 4,
 "nbformat_minor": 2
}
