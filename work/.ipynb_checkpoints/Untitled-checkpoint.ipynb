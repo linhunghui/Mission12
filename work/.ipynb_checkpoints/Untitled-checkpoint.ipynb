{
 "cells": [
  {
   "cell_type": "code",
   "execution_count": 4,
   "metadata": {},
   "outputs": [
    {
     "name": "stdout",
     "output_type": "stream",
     "text": [
      "<botocore.client.S3 object at 0x7f3d5d720b38>\n"
     ]
    }
   ],
   "source": [
    "#引用套件\n",
    "import boto3\n",
    "import os\n",
    "\n",
    "# Get the service resource 使用boto3連線s3\n",
    "\n",
    "s3 = boto3.client('s3',region_name=os.environ[\"region_name\"],\n",
    "                      aws_access_key_id=os.environ[\"aws_access_key_id\"],\n",
    "                      aws_secret_access_key=os.environ[\"aws_secret_access_key\"],\n",
    "                      endpoint_url=\"http://cc104.s3.local:4569\")\n",
    "print(s3)"
   ]
  },
  {
   "cell_type": "code",
   "execution_count": 8,
   "metadata": {},
   "outputs": [],
   "source": [
    "#創建bucket\n",
    "s3.create_bucket(Bucket='ggboy-bucket')\n",
    "#將資料上傳到S3的ggboy-bucket內\n",
    "s3.upload_file('ggyytest.txt', 'ggboy-bucket','ggyytest.txt')\n",
    "#"
   ]
  },
  {
   "cell_type": "code",
   "execution_count": null,
   "metadata": {},
   "outputs": [],
   "source": [
    "#\n",
    "s3 = boto3.resource('s3',region_name=os.environ[\"region_name\"],\n",
    "                      aws_access_key_id=os.environ[\"aws_access_key_id\"],\n",
    "                      aws_secret_access_key=os.environ[\"aws_secret_access_key\"],\n",
    "                      endpoint_url=\"http://cc104.s3.local:4569\")\n",
    "s3.Bucket('ggboy-bucket').download_file('hello.txt', '/tmp/hello.txt')"
   ]
  }
 ],
 "metadata": {
  "kernelspec": {
   "display_name": "Python 3",
   "language": "python",
   "name": "python3"
  },
  "language_info": {
   "codemirror_mode": {
    "name": "ipython",
    "version": 3
   },
   "file_extension": ".py",
   "mimetype": "text/x-python",
   "name": "python",
   "nbconvert_exporter": "python",
   "pygments_lexer": "ipython3",
   "version": "3.7.1"
  }
 },
 "nbformat": 4,
 "nbformat_minor": 2
}
